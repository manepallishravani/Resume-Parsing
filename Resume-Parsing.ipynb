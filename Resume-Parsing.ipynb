{
 "cells": [
  {
   "cell_type": "code",
   "execution_count": null,
   "metadata": {
    "collapsed": true
   },
   "outputs": [],
   "source": [
    "import tika\n",
    "from tika import parser\n",
    "import re\n",
    "class ResumeParsing:\n",
    "    def run():\n",
    "        tika.initVM()\n",
    "        parsed=parser.from_file(\"sampleresume1.docx\")\n",
    "        info=parsed[\"content\"]\n",
    "        name=re.compile(r\"([a-zA-Z]){3,}\\s([a-zA-Z]){3,}\")\n",
    "        print(\"Name:\"+re.search(name,parsed[\"content\"]).group())\n",
    "        #regx=r'([a-zA-Z]){3,}\\s([a-zA-Z]){3,}'\n",
    "        #match=re.findall(regx,info)\n",
    "        #print('Name:')\n",
    "        #print(match[1][0])\n",
    "        regexp=r'\\d{3}[-\\.\\s]??\\d{3}[-\\.\\s]??\\d{4}|\\(\\d{3}\\)\\s*\\d{3}[-\\.\\s]??\\d{4}|\\d{3}[-\\.\\s]??\\d{4}'\n",
    "        matchp=re.findall(regexp,info)\n",
    "        print('phno:')\n",
    "        print(matchp)\n",
    "        regexe=r'\\b[\\w.-]+?@\\w+?\\.\\w+?\\b'\n",
    "        matche=re.findall(regexe,info)\n",
    "        print('email:')\n",
    "        print(matche)\n",
    "        regexa=r'[F][\\w /,-: ]+[ .]'\n",
    "        matcha=re.findall(regexa,info)\n",
    "        print('Address:')\n",
    "        print(matcha)\n",
    "        \n",
    "    if __name__==\"__main__\" :\n",
    "          run()"
   ]
  }
 ],
 "metadata": {
  "kernelspec": {
   "display_name": "Python 3",
   "language": "python",
   "name": "python3"
  },
  "language_info": {
   "codemirror_mode": {
    "name": "ipython",
    "version": 3
   },
   "file_extension": ".py",
   "mimetype": "text/x-python",
   "name": "python",
   "nbconvert_exporter": "python",
   "pygments_lexer": "ipython3",
   "version": "3.6.1"
  }
 },
 "nbformat": 4,
 "nbformat_minor": 2
}
